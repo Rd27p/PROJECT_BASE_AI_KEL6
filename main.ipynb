{
 "cells": [
  {
   "cell_type": "code",
   "execution_count": 1,
   "id": "322eeecf",
   "metadata": {},
   "outputs": [
    {
     "name": "stdout",
     "output_type": "stream",
     "text": [
      "Total data awal: 500\n",
      "   hours_coding  coffee_intake_mg  distractions  sleep_hours  commits  \\\n",
      "0          5.99               600             1          5.8        2   \n",
      "1          4.72               568             2          6.9        5   \n",
      "2          6.30               560             1          8.9        2   \n",
      "3          8.05               600             7          6.3        9   \n",
      "4          4.53               421             6          6.9        4   \n",
      "\n",
      "   bugs_reported  ai_usage_hours  cognitive_load  task_success  \n",
      "0              1            0.71             5.4             1  \n",
      "1              3            1.75             4.7             1  \n",
      "2              0            2.27             2.2             1  \n",
      "3              5            1.40             5.9             0  \n",
      "4              0            1.26             6.3             1  \n",
      "Total data setelah hapus duplikat: 500\n",
      "Train set size: 300\n",
      "Validation set size: 100\n",
      "Test set size: 100\n",
      "Cek duplikat antar set:\n",
      "Train - Validation duplikat: 0\n",
      "Train - Test duplikat: 0\n",
      "Validation - Test duplikat: 0\n"
     ]
    }
   ],
   "source": [
    "# Import library yang diperlukan\n",
    "import pandas as pd\n",
    "from sklearn.model_selection import train_test_split\n",
    "\n",
    "# Load dataset\n",
    "df = pd.read_csv('ai_dev_productivity.csv')\n",
    "\n",
    "# Cek jumlah data dan data awal\n",
    "print(f\"Total data awal: {len(df)}\")\n",
    "print(df.head())\n",
    "\n",
    "# Hilangkan duplikat pada data awal supaya tidak ada data yang sama\n",
    "df = df.drop_duplicates()\n",
    "print(f\"Total data setelah hapus duplikat: {len(df)}\")\n",
    "\n",
    "# Split data menjadi train + temp (4/5) dan test (1/5)\n",
    "train_val, test = train_test_split(df, test_size=0.2, random_state=42, shuffle=True)\n",
    "\n",
    "# Split train_val menjadi train (3/5) dan validation (1/5)\n",
    "# Karena train_val adalah 4/5 dari data, proporsi train di sini adalah 3/4 dari train_val\n",
    "train, val = train_test_split(train_val, test_size=0.25, random_state=42, shuffle=True)\n",
    "\n",
    "# Cek hasil pembagian\n",
    "print(f\"Train set size: {len(train)}\")\n",
    "print(f\"Validation set size: {len(val)}\")\n",
    "print(f\"Test set size: {len(test)}\")\n",
    "\n",
    "# Cek apakah ada duplikat antar set\n",
    "print(\"Cek duplikat antar set:\")\n",
    "print(f\"Train - Validation duplikat: {len(pd.merge(train, val))}\")\n",
    "print(f\"Train - Test duplikat: {len(pd.merge(train, test))}\")\n",
    "print(f\"Validation - Test duplikat: {len(pd.merge(val, test))}\")\n",
    "\n",
    "# Simpan hasil split ke file CSV baru (opsional)\n",
    "train.to_csv('train_ai_dev_productivity.csv', index=False)\n",
    "val.to_csv('validation_ai_dev_productivity.csv', index=False)\n",
    "test.to_csv('test_ai_dev_productivity.csv', index=False)\n"
   ]
  }
 ],
 "metadata": {
  "kernelspec": {
   "display_name": "Python 3",
   "language": "python",
   "name": "python3"
  },
  "language_info": {
   "codemirror_mode": {
    "name": "ipython",
    "version": 3
   },
   "file_extension": ".py",
   "mimetype": "text/x-python",
   "name": "python",
   "nbconvert_exporter": "python",
   "pygments_lexer": "ipython3",
   "version": "3.11.9"
  }
 },
 "nbformat": 4,
 "nbformat_minor": 5
}
