{
 "cells": [
  {
   "cell_type": "code",
   "execution_count": null,
   "id": "322eeecf",
   "metadata": {},
   "outputs": [
    {
     "name": "stdout",
     "output_type": "stream",
     "text": [
      "Total data awal: 1319\n",
      "   Age  Gender  Heart rate  Systolic blood pressure  Diastolic blood pressure  \\\n",
      "0   64       1          66                      160                        83   \n",
      "1   21       1          94                       98                        46   \n",
      "2   55       1          64                      160                        77   \n",
      "3   64       1          70                      120                        55   \n",
      "4   55       1          64                      112                        65   \n",
      "\n",
      "   Blood sugar  CK-MB  Troponin    Result  \n",
      "0        160.0   1.80     0.012  negative  \n",
      "1        296.0   6.75     1.060  positive  \n",
      "2        270.0   1.99     0.003  negative  \n",
      "3        270.0  13.87     0.122  positive  \n",
      "4        300.0   1.08     0.003  negative  \n",
      "Total data setelah hapus duplikat: 1319\n",
      "Train set size: 791\n",
      "Validation set size: 264\n",
      "Test set size: 264\n",
      "Cek duplikat antar set:\n",
      "Train - Validation duplikat: 0\n",
      "Train - Test duplikat: 0\n",
      "Validation - Test duplikat: 0\n"
     ]
    }
   ],
   "source": [
    "# Import library yang diperlukan\n",
    "import pandas as pd\n",
    "from sklearn.model_selection import train_test_split\n",
    "\n",
    "# Load dataset\n",
    "df = pd.read_csv('Medicaldataset.csv')\n",
    "\n",
    "# Cek jumlah data dan data awal\n",
    "print(f\"Total data awal: {len(df)}\")\n",
    "print(df.head())\n",
    "\n",
    "# Hilangkan duplikat\n",
    "df = df.drop_duplicates().reset_index(drop=True)\n",
    "print(f\"Total data setelah hapus duplikat: {len(df)}\")\n",
    "\n",
    "# Shuffle semua data terlebih dahulu agar pemisahan acak\n",
    "df = df.sample(frac=1, random_state=42).reset_index(drop=True)\n",
    "\n",
    "# Hitung jumlah untuk setiap set\n",
    "total_len = len(df)\n",
    "test_len = int(0.2 * total_len)\n",
    "val_len = int(0.2 * total_len)  # Validation set = 1/5 = 0.2\n",
    "train_len = total_len - test_len - val_len  # Sisa untuk training\n",
    "\n",
    "# Split data tanpa overlap\n",
    "test = df.iloc[:test_len]\n",
    "val = df.iloc[test_len:test_len + val_len]\n",
    "train = df.iloc[test_len + val_len:]\n",
    "\n",
    "# Cek ukuran masing-masing set\n",
    "print(f\"Train set size: {len(train)}\")\n",
    "print(f\"Validation set size: {len(val)}\")\n",
    "print(f\"Test set size: {len(test)}\")\n",
    "\n",
    "# Validasi tidak ada duplikat antar set\n",
    "print(\"Cek duplikat antar set:\")\n",
    "print(f\"Train - Validation duplikat: {len(pd.merge(train, val, how='inner'))}\")\n",
    "print(f\"Train - Test duplikat: {len(pd.merge(train, test, how='inner'))}\")\n",
    "print(f\"Validation - Test duplikat: {len(pd.merge(val, test, how='inner'))}\")\n",
    "\n",
    "# Simpan hasil split\n",
    "train.to_csv('train_data.csv', index=False)\n",
    "val.to_csv('val_data.csv', index=False)\n",
    "test.to_csv('test_data.csv', index=False)\n"
   ]
  }
 ],
 "metadata": {
  "kernelspec": {
   "display_name": "Python 3",
   "language": "python",
   "name": "python3"
  },
  "language_info": {
   "codemirror_mode": {
    "name": "ipython",
    "version": 3
   },
   "file_extension": ".py",
   "mimetype": "text/x-python",
   "name": "python",
   "nbconvert_exporter": "python",
   "pygments_lexer": "ipython3",
   "version": "3.11.9"
  }
 },
 "nbformat": 4,
 "nbformat_minor": 5
}
